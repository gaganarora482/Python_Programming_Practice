{
 "cells": [
  {
   "cell_type": "code",
   "execution_count": 33,
   "metadata": {
    "ExecuteTime": {
     "end_time": "2019-04-24T01:55:56.157473Z",
     "start_time": "2019-04-24T01:55:56.153475Z"
    }
   },
   "outputs": [],
   "source": [
    "from PIL import Image as im\n",
    "from PIL import ImageDraw \n",
    "from matplotlib.pyplot import imshow\n",
    "import random\n",
    "import math\n",
    "import numpy as np"
   ]
  },
  {
   "cell_type": "code",
   "execution_count": 34,
   "metadata": {
    "ExecuteTime": {
     "end_time": "2019-04-24T01:55:58.667471Z",
     "start_time": "2019-04-24T01:55:58.619471Z"
    }
   },
   "outputs": [],
   "source": [
    "def drawVoronoiDiagram(width,height,noOfLabels):\n",
    "    \n",
    "    img = im.new(\"RGB\",(width,height))\n",
    "    \n",
    "    label_x = random.sample(range(width),noOfLabels)\n",
    "    label_y = random.sample(range(height),noOfLabels)\n",
    "    \n",
    "    label_r = random.sample(range(256),noOfLabels)\n",
    "    label_g = random.sample(range(256),noOfLabels)\n",
    "    label_b = random.sample(range(256),noOfLabels)\n",
    "    \n",
    "    for i in range(width):\n",
    "        for j in range(height):\n",
    "            \n",
    "            minDist = math.sqrt((label_x[0] - i)**2+(label_y[0]-j)**2)\n",
    "            minIdx  = 0\n",
    "            \n",
    "            for itr in range(noOfLabels):\n",
    "                \n",
    "                if math.sqrt((label_x[itr] - i)**2+(label_y[itr]-j)**2) < minDist:\n",
    "                    minDist = math.sqrt((label_x[itr] - i)**2+(label_y[itr]-j)**2)\n",
    "                    minIdx  = itr\n",
    "                    \n",
    "                img.putpixel((i,j),(label_r[minIdx],label_g[minIdx],label_b[minIdx]))\n",
    "            \n",
    "            \n",
    "    draw = ImageDraw.ImageDraw(img)\n",
    "    \n",
    "    for itr in range(noOfLabels):\n",
    "        draw.ellipse([label_x[itr]-3,label_y[itr]-3,label_x[itr]+3,label_y[itr]+3])\n",
    "        \n",
    "    \n",
    "    img.save(\"voronoiSampleImg.png\",\"PNG\")\n",
    "    imshow(np.asarray(img))\n",
    "    \n",
    "    "
   ]
  },
  {
   "cell_type": "code",
   "execution_count": 35,
   "metadata": {
    "ExecuteTime": {
     "end_time": "2019-04-24T01:56:17.880455Z",
     "start_time": "2019-04-24T01:56:02.452468Z"
    }
   },
   "outputs": [
    {
     "data": {
      "image/png": "[encoded data removed]",
      "text/plain": [
       "<Figure size 432x288 with 1 Axes>"
      ]
     },
     "metadata": {
      "needs_background": "light"
     },
     "output_type": "display_data"
    }
   ],
   "source": [
    "drawVoronoiDiagram(500,500,25)"
   ]
  },
  {
   "cell_type": "code",
   "execution_count": null,
   "metadata": {},
   "outputs": [],
   "source": []
  }
 ],
 "metadata": {
  "kernelspec": {
   "display_name": "Python 3",
   "language": "python",
   "name": "python3"
  },
  "language_info": {
   "codemirror_mode": {
    "name": "ipython",
    "version": 3
   },
   "file_extension": ".py",
   "mimetype": "text/x-python",
   "name": "python",
   "nbconvert_exporter": "python",
   "pygments_lexer": "ipython3",
   "version": "3.7.2"
  },
  "toc": {
   "base_numbering": 1,
   "nav_menu": {},
   "number_sections": true,
   "sideBar": true,
   "skip_h1_title": false,
   "title_cell": "Table of Contents",
   "title_sidebar": "Contents",
   "toc_cell": false,
   "toc_position": {},
   "toc_section_display": true,
   "toc_window_display": false
  }
 },
 "nbformat": 4,
 "nbformat_minor": 2
}
